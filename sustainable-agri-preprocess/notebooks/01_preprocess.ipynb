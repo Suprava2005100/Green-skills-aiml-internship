{
 "cells": [
  {
   "cell_type": "markdown",
   "id": "34c0aa17",
   "metadata": {},
   "source": [
    "# 01 – Preprocess Sustainable Agriculture Data\n",
    "\n",
    "> Kaggle → Jupyter → Clean Artifacts"
   ]
  },
  {
   "cell_type": "code",
   "execution_count": null,
   "id": "0589b220",
   "metadata": {},
   "outputs": [],
   "source": [
    "# If running for the first time, ensure required libs are installed in your env:\n",
    "# !pip install -r ../requirements.txt"
   ]
  },
  {
   "cell_type": "markdown",
   "id": "cd211cb8",
   "metadata": {},
   "source": [
    "## 1) Imports"
   ]
  },
  {
   "cell_type": "code",
   "execution_count": 5,
   "id": "bc68c4f0",
   "metadata": {},
   "outputs": [],
   "source": [
    "import os\n",
    "from pathlib import Path\n",
    "import pandas as pd\n",
    "import numpy as np\n",
    "from sklearn.model_selection import train_test_split\n",
    "from sklearn.compose import ColumnTransformer\n",
    "from sklearn.preprocessing import OneHotEncoder, StandardScaler\n",
    "from sklearn.impute import SimpleImputer\n",
    "\n",
    "RAW_DIR = Path(\"../data/raw\")\n",
    "PROC_DIR = Path(\"../data/processed\")\n",
    "PROC_DIR.mkdir(parents=True, exist_ok=True)\n",
    "\n",
    "pd.set_option(\"display.max_columns\", 100)"
   ]
  },
  {
   "cell_type": "markdown",
   "id": "26b31e1b",
   "metadata": {},
   "source": [
    "## 2) Download from Kaggle"
   ]
  },
  {
   "cell_type": "code",
   "execution_count": 2,
   "id": "7eafbb28",
   "metadata": {},
   "outputs": [
    {
     "name": "stdout",
     "output_type": "stream",
     "text": [
      "⚠️ Update KAGGLE_DATASET before running this cell.\n"
     ]
    }
   ],
   "source": [
    "\n",
    "KAGGLE_DATASET = \"SupravaTalukdar/crop-production-in-india\"\n",
    "\n",
    "if KAGGLE_DATASET != \"SupravaTalukdar/crop-production-in-india\":\n",
    "    from kaggle.api.kaggle_api_extended import KaggleApi\n",
    "    api = KaggleApi(); api.authenticate()\n",
    "    api.dataset_download_files(KAGGLE_DATASET, path=str(RAW_DIR), unzip=True)\n",
    "    print(\"Downloaded to\", RAW_DIR.resolve())\n",
    "else:\n",
    "    print(\"⚠️ Update KAGGLE_DATASET before running this cell.\")"
   ]
  },
  {
   "cell_type": "markdown",
   "id": "64106337",
   "metadata": {},
   "source": [
    "## 3) Load raw CSV(s)"
   ]
  },
  {
   "cell_type": "code",
   "execution_count": 7,
   "id": "b58a8a36-bcf6-411a-bd16-4ad59bf8f5f4",
   "metadata": {},
   "outputs": [
    {
     "name": "stdout",
     "output_type": "stream",
     "text": [
      "Current working directory: C:\\Users\\Suprava\\Downloads\\sustainable-agri-starter\\sustainable-agri-preprocess\\notebooks\n",
      "Files in current directory: ['.gitkeep', '.ipynb_checkpoints', '01_preprocess.ipynb']\n"
     ]
    }
   ],
   "source": [
    "import os\n",
    "\n",
    "# 1. Where is Jupyter running from?\n",
    "print(\"Current working directory:\", os.getcwd())\n",
    "\n",
    "# 2. What files/folders exist here?\n",
    "print(\"Files in current directory:\", os.listdir())\n"
   ]
  },
  {
   "cell_type": "code",
   "execution_count": 16,
   "id": "6e56847d",
   "metadata": {},
   "outputs": [
    {
     "name": "stdout",
     "output_type": "stream",
     "text": [
      "Shape of dataset: (246091, 7)\n"
     ]
    },
    {
     "data": {
      "text/html": [
       "<div>\n",
       "<style scoped>\n",
       "    .dataframe tbody tr th:only-of-type {\n",
       "        vertical-align: middle;\n",
       "    }\n",
       "\n",
       "    .dataframe tbody tr th {\n",
       "        vertical-align: top;\n",
       "    }\n",
       "\n",
       "    .dataframe thead th {\n",
       "        text-align: right;\n",
       "    }\n",
       "</style>\n",
       "<table border=\"1\" class=\"dataframe\">\n",
       "  <thead>\n",
       "    <tr style=\"text-align: right;\">\n",
       "      <th></th>\n",
       "      <th>State_Name</th>\n",
       "      <th>District_Name</th>\n",
       "      <th>Crop_Year</th>\n",
       "      <th>Season</th>\n",
       "      <th>Crop</th>\n",
       "      <th>Area</th>\n",
       "      <th>Production</th>\n",
       "    </tr>\n",
       "  </thead>\n",
       "  <tbody>\n",
       "    <tr>\n",
       "      <th>0</th>\n",
       "      <td>Andaman and Nicobar Islands</td>\n",
       "      <td>NICOBARS</td>\n",
       "      <td>2000</td>\n",
       "      <td>Kharif</td>\n",
       "      <td>Arecanut</td>\n",
       "      <td>1254.0</td>\n",
       "      <td>2000.0</td>\n",
       "    </tr>\n",
       "    <tr>\n",
       "      <th>1</th>\n",
       "      <td>Andaman and Nicobar Islands</td>\n",
       "      <td>NICOBARS</td>\n",
       "      <td>2000</td>\n",
       "      <td>Kharif</td>\n",
       "      <td>Other Kharif pulses</td>\n",
       "      <td>2.0</td>\n",
       "      <td>1.0</td>\n",
       "    </tr>\n",
       "    <tr>\n",
       "      <th>2</th>\n",
       "      <td>Andaman and Nicobar Islands</td>\n",
       "      <td>NICOBARS</td>\n",
       "      <td>2000</td>\n",
       "      <td>Kharif</td>\n",
       "      <td>Rice</td>\n",
       "      <td>102.0</td>\n",
       "      <td>321.0</td>\n",
       "    </tr>\n",
       "    <tr>\n",
       "      <th>3</th>\n",
       "      <td>Andaman and Nicobar Islands</td>\n",
       "      <td>NICOBARS</td>\n",
       "      <td>2000</td>\n",
       "      <td>Whole Year</td>\n",
       "      <td>Banana</td>\n",
       "      <td>176.0</td>\n",
       "      <td>641.0</td>\n",
       "    </tr>\n",
       "    <tr>\n",
       "      <th>4</th>\n",
       "      <td>Andaman and Nicobar Islands</td>\n",
       "      <td>NICOBARS</td>\n",
       "      <td>2000</td>\n",
       "      <td>Whole Year</td>\n",
       "      <td>Cashewnut</td>\n",
       "      <td>720.0</td>\n",
       "      <td>165.0</td>\n",
       "    </tr>\n",
       "  </tbody>\n",
       "</table>\n",
       "</div>"
      ],
      "text/plain": [
       "                    State_Name District_Name  Crop_Year       Season  \\\n",
       "0  Andaman and Nicobar Islands      NICOBARS       2000  Kharif        \n",
       "1  Andaman and Nicobar Islands      NICOBARS       2000  Kharif        \n",
       "2  Andaman and Nicobar Islands      NICOBARS       2000  Kharif        \n",
       "3  Andaman and Nicobar Islands      NICOBARS       2000  Whole Year    \n",
       "4  Andaman and Nicobar Islands      NICOBARS       2000  Whole Year    \n",
       "\n",
       "                  Crop    Area  Production  \n",
       "0             Arecanut  1254.0      2000.0  \n",
       "1  Other Kharif pulses     2.0         1.0  \n",
       "2                 Rice   102.0       321.0  \n",
       "3               Banana   176.0       641.0  \n",
       "4            Cashewnut   720.0       165.0  "
      ]
     },
     "execution_count": 16,
     "metadata": {},
     "output_type": "execute_result"
    }
   ],
   "source": [
    "import pandas as pd\n",
    "\n",
    "# Use raw string (r\"...\") so Windows backslashes don't break\n",
    "raw_csv_path = r\"C:\\Users\\Suprava\\Downloads\\sustainable-agri-starter\\sustainable-agri-preprocess\\data\\raw\\crop_production.csv\"\n",
    "\n",
    "df = pd.read_csv(raw_csv_path)\n",
    "\n",
    "print(\"Shape of dataset:\", df.shape)\n",
    "df.head()\n"
   ]
  },
  {
   "cell_type": "markdown",
   "id": "1ed4cf91",
   "metadata": {},
   "source": [
    "## 4) Basic audits"
   ]
  },
  {
   "cell_type": "code",
   "execution_count": 17,
   "id": "69ecc872",
   "metadata": {},
   "outputs": [
    {
     "data": {
      "text/html": [
       "<div>\n",
       "<style scoped>\n",
       "    .dataframe tbody tr th:only-of-type {\n",
       "        vertical-align: middle;\n",
       "    }\n",
       "\n",
       "    .dataframe tbody tr th {\n",
       "        vertical-align: top;\n",
       "    }\n",
       "\n",
       "    .dataframe thead th {\n",
       "        text-align: right;\n",
       "    }\n",
       "</style>\n",
       "<table border=\"1\" class=\"dataframe\">\n",
       "  <thead>\n",
       "    <tr style=\"text-align: right;\">\n",
       "      <th></th>\n",
       "      <th>count</th>\n",
       "      <th>mean</th>\n",
       "      <th>std</th>\n",
       "      <th>min</th>\n",
       "      <th>25%</th>\n",
       "      <th>50%</th>\n",
       "      <th>75%</th>\n",
       "      <th>max</th>\n",
       "    </tr>\n",
       "  </thead>\n",
       "  <tbody>\n",
       "    <tr>\n",
       "      <th>Crop_Year</th>\n",
       "      <td>246091.0</td>\n",
       "      <td>2005.643018</td>\n",
       "      <td>4.952164e+00</td>\n",
       "      <td>1997.00</td>\n",
       "      <td>2002.0</td>\n",
       "      <td>2006.0</td>\n",
       "      <td>2010.0</td>\n",
       "      <td>2.015000e+03</td>\n",
       "    </tr>\n",
       "    <tr>\n",
       "      <th>Area</th>\n",
       "      <td>246091.0</td>\n",
       "      <td>12002.820864</td>\n",
       "      <td>5.052340e+04</td>\n",
       "      <td>0.04</td>\n",
       "      <td>80.0</td>\n",
       "      <td>582.0</td>\n",
       "      <td>4392.0</td>\n",
       "      <td>8.580100e+06</td>\n",
       "    </tr>\n",
       "    <tr>\n",
       "      <th>Production</th>\n",
       "      <td>242361.0</td>\n",
       "      <td>582503.442251</td>\n",
       "      <td>1.706581e+07</td>\n",
       "      <td>0.00</td>\n",
       "      <td>88.0</td>\n",
       "      <td>729.0</td>\n",
       "      <td>7023.0</td>\n",
       "      <td>1.250800e+09</td>\n",
       "    </tr>\n",
       "  </tbody>\n",
       "</table>\n",
       "</div>"
      ],
      "text/plain": [
       "               count           mean           std      min     25%     50%  \\\n",
       "Crop_Year   246091.0    2005.643018  4.952164e+00  1997.00  2002.0  2006.0   \n",
       "Area        246091.0   12002.820864  5.052340e+04     0.04    80.0   582.0   \n",
       "Production  242361.0  582503.442251  1.706581e+07     0.00    88.0   729.0   \n",
       "\n",
       "               75%           max  \n",
       "Crop_Year   2010.0  2.015000e+03  \n",
       "Area        4392.0  8.580100e+06  \n",
       "Production  7023.0  1.250800e+09  "
      ]
     },
     "metadata": {},
     "output_type": "display_data"
    },
    {
     "data": {
      "text/plain": [
       "Production    0.015157\n",
       "dtype: float64"
      ]
     },
     "metadata": {},
     "output_type": "display_data"
    },
    {
     "name": "stdout",
     "output_type": "stream",
     "text": [
      "\n",
      "Unique values in State_Name: 33\n",
      "\n",
      "Unique values in District_Name: 646\n",
      "\n",
      "Unique values in Season: 6\n",
      "\n",
      "Unique values in Crop: 124\n"
     ]
    }
   ],
   "source": [
    "if 'df' in globals():\n",
    "    # 🔹 Quick numeric summary\n",
    "    display(df.describe(include='number').T)\n",
    "\n",
    "    # 🔹 Missing values check\n",
    "    na_rate = df.isna().mean().sort_values(ascending=False)\n",
    "    display(na_rate[na_rate > 0])\n",
    "    \n",
    "    # 🔹 Unique values in categorical columns\n",
    "    for col in ['State_Name', 'District_Name', 'Season', 'Crop']:\n",
    "        print(f\"\\nUnique values in {col}: {df[col].nunique()}\")\n"
   ]
  },
  {
   "cell_type": "code",
   "execution_count": 19,
   "id": "c5a0557b-599e-4731-9c92-510ca605c568",
   "metadata": {},
   "outputs": [
    {
     "name": "stdout",
     "output_type": "stream",
     "text": [
      "✅ Clean dataset saved at: C:\\Users\\Suprava\\Downloads\\sustainable-agri-starter\\sustainable-agri-preprocess\\data\\processed\\crop_production_clean.csv\n"
     ]
    }
   ],
   "source": [
    "import os\n",
    "\n",
    "# Ensure processed folder exists\n",
    "processed_path = r\"C:\\Users\\Suprava\\Downloads\\sustainable-agri-starter\\sustainable-agri-preprocess\\data\\processed\"\n",
    "os.makedirs(processed_path, exist_ok=True)\n",
    "\n",
    "# Save cleaned dataset\n",
    "clean_file = os.path.join(processed_path, \"crop_production_clean.csv\")\n",
    "df.to_csv(clean_file, index=False)\n",
    "\n",
    "print(f\"✅ Clean dataset saved at: {clean_file}\")\n"
   ]
  },
  {
   "cell_type": "markdown",
   "id": "abf960a6",
   "metadata": {},
   "source": [
    "## 5) Feature selection + preprocessing pipeline"
   ]
  },
  {
   "cell_type": "code",
   "execution_count": null,
   "id": "6057e47a",
   "metadata": {},
   "outputs": [],
   "source": [
    "if 'df' in globals():\n",
    "    # Example: select target and features (customize!)\n",
    "    # target = \"yield\"  # e.g., crop yield\n",
    "    # features = [c for c in df.columns if c != target]\n",
    "    target = None  # <-- set this\n",
    "    features = []  # <-- set this\n",
    "\n",
    "    if target is None or not features:\n",
    "        print(\"⚠️ Set `target` and `features` according to your dataset.\")\n",
    "    else:\n",
    "        X = df[features].copy()\n",
    "        y = df[target].copy()\n",
    "\n",
    "        num_cols = X.select_dtypes(include=['number']).columns.tolist()\n",
    "        cat_cols = X.select_dtypes(exclude=['number']).columns.tolist()\n",
    "\n",
    "        numeric_pipe = Pipeline(steps=[\n",
    "            (\"imputer\", SimpleImputer(strategy=\"median\")),\n",
    "            (\"scaler\", StandardScaler())\n",
    "        ])\n",
    "\n",
    "        categorical_pipe = Pipeline(steps=[\n",
    "            (\"imputer\", SimpleImputer(strategy=\"most_frequent\")),\n",
    "            (\"ohe\", OneHotEncoder(handle_unknown=\"ignore\"))\n",
    "        ])\n",
    "\n",
    "        pre = ColumnTransformer(\n",
    "            transformers=[\n",
    "                (\"num\", numeric_pipe, num_cols),\n",
    "                (\"cat\", categorical_pipe, cat_cols),\n",
    "            ]\n",
    "        )\n",
    "\n",
    "        X_train, X_temp, y_train, y_temp = train_test_split(X, y, test_size=0.3, random_state=42)\n",
    "        X_valid, X_test, y_valid, y_test = train_test_split(X_temp, y_temp, test_size=0.5, random_state=42)\n",
    "\n",
    "        print(f\"Train: {X_train.shape}, Valid: {X_valid.shape}, Test: {X_test.shape}\")"
   ]
  },
  {
   "cell_type": "markdown",
   "id": "0022b562",
   "metadata": {},
   "source": [
    "## 6) Fit transform and persist processed artifacts"
   ]
  },
  {
   "cell_type": "code",
   "execution_count": null,
   "id": "54e323b9",
   "metadata": {},
   "outputs": [],
   "source": [
    "from sklearn.pipeline import Pipeline\n",
    "import joblib\n",
    "\n",
    "if 'df' in globals() and 'pre' in globals() and 'X_train' in globals():\n",
    "    pre.fit(X_train)\n",
    "    Xt_train = pre.transform(X_train)\n",
    "    Xt_valid = pre.transform(X_valid)\n",
    "    Xt_test  = pre.transform(X_test)\n",
    "\n",
    "    # Save processed splits as CSV (dense)\n",
    "    # If OHE expands many columns, consider saving as parquet or sparse matrices.\n",
    "    proc_train = pd.DataFrame(Xt_train.todense() if hasattr(Xt_train, \"todense\") else Xt_train)\n",
    "    proc_valid = pd.DataFrame(Xt_valid.todense() if hasattr(Xt_valid, \"todense\") else Xt_valid)\n",
    "    proc_test  = pd.DataFrame(Xt_test.todense()  if hasattr(Xt_test, \"todense\")  else Xt_test)\n",
    "\n",
    "    proc_train['target'] = y_train.to_numpy()\n",
    "    proc_valid['target'] = y_valid.to_numpy()\n",
    "    proc_test['target']  = y_test.to_numpy()\n",
    "\n",
    "    proc_train.to_csv(PROC_DIR / \"train.csv\", index=False)\n",
    "    proc_valid.to_csv(PROC_DIR / \"valid.csv\", index=False)\n",
    "    proc_test.to_csv(PROC_DIR / \"test.csv\", index=False)\n",
    "\n",
    "    # Persist the preprocessor for reuse\n",
    "    joblib.dump(pre, PROC_DIR / \"preprocessor.joblib\")\n",
    "    print(\"Saved processed files to:\", PROC_DIR.resolve())\n",
    "else:\n",
    "    print(\"⚠️ Ensure previous cells are configured and run.\")"
   ]
  }
 ],
 "metadata": {
  "kernelspec": {
   "display_name": "Python 3 (ipykernel)",
   "language": "python",
   "name": "python3"
  },
  "language_info": {
   "codemirror_mode": {
    "name": "ipython",
    "version": 3
   },
   "file_extension": ".py",
   "mimetype": "text/x-python",
   "name": "python",
   "nbconvert_exporter": "python",
   "pygments_lexer": "ipython3",
   "version": "3.12.4"
  }
 },
 "nbformat": 4,
 "nbformat_minor": 5
}
